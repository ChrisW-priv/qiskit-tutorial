{
 "cells": [
  {
   "cell_type": "markdown",
   "id": "c8b060c0-9f01-4e1e-a543-5361b685e019",
   "metadata": {},
   "source": [
    "# Notes to not loose my mind\n",
    "So far biggest problem is that 2 ppl I watched have two different conventions: MSB vs LSB\n",
    "links to those videos: [general](https://www.youtube.com/watch?v=F_Riqjdh2oM), [specific](https://www.youtube.com/watch?v=7MdEHsRZxvo)\n",
    "\n",
    "In this sim I try to use MSB (from general video) which means that result \"01\" means\n",
    " - bit no. 0 has value 1\n",
    " - bit no. 1 has value 0\n",
    "\n",
    "Or in other words, in MSB indexes of bit results are: 76543210\n",
    "\n",
    "Thus, from now on to unify what is input what is output. In my cicruit:\n",
    "- input $\\rightarrow q_1$, MSB\n",
    "- output $\\rightarrow q_0$, LSB\n",
    "\n",
    "This, again stems from following the general video and is in contrast to specific one where\n",
    "- input $\\rightarrow q_0$, MSB\n",
    "- output $\\rightarrow q_1$, LSB\n",
    "\n",
    "## Description of deutsch's algorithm from specific vid\n",
    "### Setup\n",
    "To input lane: apply hadamar gate\n",
    "\n",
    "To output lane: apply not + hadamar gate\n",
    "\n",
    "### BBs\n",
    "#### Constant 0\n",
    "To output lane: apply identity gate (do noting)\n",
    "#### Constant 1\n",
    "To output lane: apply not gate\n",
    "#### Balanced id\n",
    "Add cnot gate with control = input and target = output\n",
    "#### Balaneced not\n",
    "Add cnot gate with control = input and target = output, and apply not gate to output lane\n",
    "\n",
    "### Exit\n",
    "To both lanes:\n",
    "- apply haddamar\n",
    "- measure state\n",
    "\n",
    "## What we expect\n",
    "We want to see:\n",
    "- 0 state for constant BB (at the end of input lane)\n",
    "- 1 state for balanced BB (at the end of input lane)"
   ]
  },
  {
   "cell_type": "code",
   "execution_count": 1,
   "id": "31f5ff98-41cd-4606-9904-d164f2e45cba",
   "metadata": {},
   "outputs": [],
   "source": [
    "from qiskit import QuantumCircuit\n",
    "from qiskit_aer import AerSimulator\n",
    "from qiskit import transpile"
   ]
  },
  {
   "cell_type": "markdown",
   "id": "eea723b0-4cda-46b3-b932-ec19c30ae0d7",
   "metadata": {},
   "source": [
    "## Setup"
   ]
  },
  {
   "cell_type": "code",
   "execution_count": 2,
   "id": "85a40592-5157-4d17-82b0-22d76332369b",
   "metadata": {},
   "outputs": [
    {
     "name": "stderr",
     "output_type": "stream",
     "text": [
      "C:\\Users\\Chris\\AppData\\Roaming\\Python\\Python39\\site-packages\\qiskit\\visualization\\circuit\\matplotlib.py:266: FutureWarning: The default matplotlib drawer scheme will be changed to \"iqp\" in a following release. To silence this warning, specify the current default explicitly as style=\"clifford\", or the new default as style=\"iqp\".\n",
      "  self._style, def_font_ratio = load_style(self._style)\n"
     ]
    },
    {
     "data": {
      "image/png": "[encoded data removed]",
      "text/plain": [
       "<Figure size 206.852x204.68 with 1 Axes>"
      ]
     },
     "execution_count": 2,
     "metadata": {},
     "output_type": "execute_result"
    }
   ],
   "source": [
    "qc1=QuantumCircuit(2,2)\n",
    "qc1.x(0)\n",
    "qc1.id(1)\n",
    "qc1.h(0)\n",
    "qc1.h(1)\n",
    "qc1.draw('mpl')"
   ]
  },
  {
   "cell_type": "markdown",
   "id": "f1e29d72-85d8-455a-a2f2-5ae388120df6",
   "metadata": {},
   "source": [
    "## Exit"
   ]
  },
  {
   "cell_type": "code",
   "execution_count": 3,
   "id": "9c28866a-0cf3-491d-a510-7d2da1bb90ce",
   "metadata": {},
   "outputs": [
    {
     "data": {
      "image/png": "[encoded data removed]",
      "text/plain": [
       "<Figure size 327.252x204.68 with 1 Axes>"
      ]
     },
     "execution_count": 3,
     "metadata": {},
     "output_type": "execute_result"
    }
   ],
   "source": [
    "qc3=QuantumCircuit(2,2)\n",
    "qc3.h(0)\n",
    "qc3.h(1)\n",
    "qc3.barrier()\n",
    "qc3.measure(0,0)\n",
    "qc3.measure(1,1)\n",
    "qc3.draw('mpl')"
   ]
  },
  {
   "cell_type": "markdown",
   "id": "4522cc75-e284-472a-9629-c3d28b6b2b63",
   "metadata": {},
   "source": [
    "## Black Boxes"
   ]
  },
  {
   "cell_type": "code",
   "execution_count": 4,
   "id": "590a1713-96a8-4dad-ab5a-c4a80c6e7c9f",
   "metadata": {},
   "outputs": [],
   "source": [
    "def create_black_box(function_type: str):\n",
    "    qc = QuantumCircuit(2,2)\n",
    "    qc.barrier(range(2))    \n",
    "    if function_type == \"constant 1\":\n",
    "        qc.x(0)\n",
    "        qc.barrier()\n",
    "    elif function_type == \"constant 0\":\n",
    "        qc.id(0)\n",
    "        qc.barrier()\n",
    "    elif function_type == \"balanced not\":\n",
    "        qc.cx(1,0)\n",
    "        qc.x(0)\n",
    "        qc.barrier()\n",
    "    elif function_type == \"balanced id\":\n",
    "        qc.cx(1,0)\n",
    "        qc.id(0)\n",
    "        qc.barrier()\n",
    "    else:\n",
    "        raise Exception(\"Improper type of function! Function can either be 'constant 1|0' or 'balanced not|id'\")\n",
    "    return qc"
   ]
  },
  {
   "cell_type": "markdown",
   "id": "66904c83-d764-417a-9ea4-446f534a2b80",
   "metadata": {},
   "source": [
    "### Example"
   ]
  },
  {
   "cell_type": "code",
   "execution_count": 5,
   "id": "f203bd46-43ec-483d-83b9-8dba12d3f9fb",
   "metadata": {},
   "outputs": [
    {
     "data": {
      "image/png": "[encoded data removed]",
      "text/plain": [
       "<Figure size 267.052x204.68 with 1 Axes>"
      ]
     },
     "execution_count": 5,
     "metadata": {},
     "output_type": "execute_result"
    }
   ],
   "source": [
    "create_black_box(\"constant 1\").draw('mpl')"
   ]
  },
  {
   "cell_type": "markdown",
   "id": "88f92555-d5cd-40ca-ba29-0c5cf5f40767",
   "metadata": {},
   "source": [
    "## Composed gates"
   ]
  },
  {
   "cell_type": "markdown",
   "id": "c1e4b145-0706-48aa-8a8e-8ca208b20bdf",
   "metadata": {},
   "source": [
    "### Constant 1"
   ]
  },
  {
   "cell_type": "code",
   "execution_count": 6,
   "id": "5a7353f1-5be9-49dc-8b4d-bb1a3777b254",
   "metadata": {},
   "outputs": [
    {
     "data": {
      "image/png": "[encoded data removed]",
      "text/plain": [
       "<Figure size 628.252x204.68 with 1 Axes>"
      ]
     },
     "execution_count": 6,
     "metadata": {},
     "output_type": "execute_result"
    }
   ],
   "source": [
    "qc_constant_1 = qc1.compose(create_black_box('constant 1')).compose(qc3)\n",
    "qc_constant_1.draw('mpl')"
   ]
  },
  {
   "cell_type": "markdown",
   "id": "18739d65-9643-4580-961e-26cd9064753a",
   "metadata": {},
   "source": [
    "### Constant 0"
   ]
  },
  {
   "cell_type": "code",
   "execution_count": 7,
   "id": "d84acc45-cdf8-44f4-967d-3c6b33ff4792",
   "metadata": {},
   "outputs": [
    {
     "data": {
      "image/png": "[encoded data removed]",
      "text/plain": [
       "<Figure size 628.252x204.68 with 1 Axes>"
      ]
     },
     "execution_count": 7,
     "metadata": {},
     "output_type": "execute_result"
    }
   ],
   "source": [
    "qc_constant_0 = qc1.compose(create_black_box('constant 0')).compose(qc3)\n",
    "qc_constant_0.draw('mpl')"
   ]
  },
  {
   "cell_type": "markdown",
   "id": "36fb79da-cac4-42b2-86b0-789c0871b6cd",
   "metadata": {},
   "source": [
    "### Balanced not"
   ]
  },
  {
   "cell_type": "code",
   "execution_count": 15,
   "id": "6491881d-ee24-4736-a504-0f12ed282115",
   "metadata": {},
   "outputs": [
    {
     "data": {
      "image/png": "[encoded data removed]",
      "text/plain": [
       "<Figure size 688.452x204.68 with 1 Axes>"
      ]
     },
     "execution_count": 15,
     "metadata": {},
     "output_type": "execute_result"
    }
   ],
   "source": [
    "qc_balanced_not = qc1.compose(create_black_box('balanced not')).compose(qc3)\n",
    "qc_balanced_not.draw('mpl')"
   ]
  },
  {
   "cell_type": "markdown",
   "id": "21babc1b-5d8d-41f5-8fc0-eeb9e976ce45",
   "metadata": {},
   "source": [
    "### Balanced id"
   ]
  },
  {
   "cell_type": "code",
   "execution_count": 9,
   "id": "63fe30bd-693e-48be-86ed-e1d93b69f01b",
   "metadata": {},
   "outputs": [
    {
     "data": {
      "image/png": "[encoded data removed]",
      "text/plain": [
       "<Figure size 688.452x204.68 with 1 Axes>"
      ]
     },
     "execution_count": 9,
     "metadata": {},
     "output_type": "execute_result"
    }
   ],
   "source": [
    "qc_balanced_id = qc1.compose(create_black_box('balanced id')).compose(qc3)\n",
    "qc_balanced_id.draw('mpl')"
   ]
  },
  {
   "cell_type": "markdown",
   "id": "73014c7b-cc8e-4bb8-9313-d27721462c01",
   "metadata": {},
   "source": [
    "## Results"
   ]
  },
  {
   "cell_type": "code",
   "execution_count": 10,
   "id": "d5de0ceb-6668-4967-a3d6-75fd41385aef",
   "metadata": {},
   "outputs": [],
   "source": [
    "backend=AerSimulator()\n",
    "\n",
    "def get_result_counts(quantum_circuit):\n",
    "    qc_compiled = transpile(quantum_circuit, backend)\n",
    "    job_sim = backend.run(qc_compiled, shots=1024)\n",
    "    result_sim = job_sim.result()\n",
    "    counts = result_sim.get_counts(qc_compiled)\n",
    "    return counts"
   ]
  },
  {
   "cell_type": "code",
   "execution_count": 11,
   "id": "e1e4e8e6-bfe9-4b81-bee8-1aa8dd0e05a4",
   "metadata": {},
   "outputs": [
    {
     "data": {
      "text/plain": [
       "{'11': 1024}"
      ]
     },
     "execution_count": 11,
     "metadata": {},
     "output_type": "execute_result"
    }
   ],
   "source": [
    "get_result_counts(qc_balanced_id)"
   ]
  },
  {
   "cell_type": "code",
   "execution_count": 12,
   "id": "8bd4c037-0d21-4ccb-a8ea-231383faad26",
   "metadata": {},
   "outputs": [
    {
     "data": {
      "text/plain": [
       "{'11': 1024}"
      ]
     },
     "execution_count": 12,
     "metadata": {},
     "output_type": "execute_result"
    }
   ],
   "source": [
    "get_result_counts(qc_balanced_not)"
   ]
  },
  {
   "cell_type": "code",
   "execution_count": 13,
   "id": "ae2d5a66-1f5b-428b-b87d-10bb9f927bde",
   "metadata": {},
   "outputs": [
    {
     "data": {
      "text/plain": [
       "{'01': 1024}"
      ]
     },
     "execution_count": 13,
     "metadata": {},
     "output_type": "execute_result"
    }
   ],
   "source": [
    "get_result_counts(qc_constant_1)"
   ]
  },
  {
   "cell_type": "code",
   "execution_count": 14,
   "id": "e348f0be-4dca-48c5-8dbe-0ddf10be69c8",
   "metadata": {},
   "outputs": [
    {
     "data": {
      "text/plain": [
       "{'01': 1024}"
      ]
     },
     "execution_count": 14,
     "metadata": {},
     "output_type": "execute_result"
    }
   ],
   "source": [
    "get_result_counts(qc_constant_0)"
   ]
  },
  {
   "cell_type": "code",
   "execution_count": null,
   "id": "34e556e7-c67a-4597-a74b-75883439c628",
   "metadata": {},
   "outputs": [],
   "source": []
  }
 ],
 "metadata": {
  "kernelspec": {
   "display_name": "Python 3",
   "language": "python",
   "name": "python3"
  },
  "language_info": {
   "codemirror_mode": {
    "name": "ipython",
    "version": 3
   },
   "file_extension": ".py",
   "mimetype": "text/x-python",
   "name": "python",
   "nbconvert_exporter": "python",
   "pygments_lexer": "ipython3",
   "version": "3.9.4"
  }
 },
 "nbformat": 4,
 "nbformat_minor": 5
}
